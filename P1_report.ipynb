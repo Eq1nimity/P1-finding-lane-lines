{
 "cells": [
  {
   "cell_type": "markdown",
   "metadata": {
    "toc": "true"
   },
   "source": [
    "# Table of Contents\n",
    " <p><div class=\"lev1 toc-item\"><a href=\"#Objective\" data-toc-modified-id=\"Objective-1\"><span class=\"toc-item-num\">1&nbsp;&nbsp;</span>Objective</a></div><div class=\"lev1 toc-item\"><a href=\"#Pipeline\" data-toc-modified-id=\"Pipeline-2\"><span class=\"toc-item-num\">2&nbsp;&nbsp;</span>Pipeline</a></div><div class=\"lev2 toc-item\"><a href=\"#Breakdown-and-visualization\" data-toc-modified-id=\"Breakdown-and-visualization-21\"><span class=\"toc-item-num\">2.1&nbsp;&nbsp;</span>Breakdown and visualization</a></div><div class=\"lev2 toc-item\"><a href=\"#Non-Pipeline-Supplement\" data-toc-modified-id=\"Non-Pipeline-Supplement-22\"><span class=\"toc-item-num\">2.2&nbsp;&nbsp;</span>Non-Pipeline Supplement</a></div><div class=\"lev2 toc-item\"><a href=\"#Modifying-draw_lines()\" data-toc-modified-id=\"Modifying-draw_lines()-23\"><span class=\"toc-item-num\">2.3&nbsp;&nbsp;</span>Modifying draw_lines()</a></div><div class=\"lev1 toc-item\"><a href=\"#Shortcomings-and-improvements\" data-toc-modified-id=\"Shortcomings-and-improvements-3\"><span class=\"toc-item-num\">3&nbsp;&nbsp;</span>Shortcomings and improvements</a></div><div class=\"lev2 toc-item\"><a href=\"#Consistant-line-height.\" data-toc-modified-id=\"Consistant-line-height.-31\"><span class=\"toc-item-num\">3.1&nbsp;&nbsp;</span>Consistant line height.</a></div><div class=\"lev2 toc-item\"><a href=\"#Curved-lines\" data-toc-modified-id=\"Curved-lines-32\"><span class=\"toc-item-num\">3.2&nbsp;&nbsp;</span>Curved lines</a></div><div class=\"lev2 toc-item\"><a href=\"#Determine-line-type-(double-yellow,-broken-white,-etc).-Color-code-draw_lines()\" data-toc-modified-id=\"Determine-line-type-(double-yellow,-broken-white,-etc).-Color-code-draw_lines()-33\"><span class=\"toc-item-num\">3.3&nbsp;&nbsp;</span>Determine line type (double yellow, broken white, etc). Color code draw_lines()</a></div><div class=\"lev2 toc-item\"><a href=\"#Motorcyle-input-data.\" data-toc-modified-id=\"Motorcyle-input-data.-34\"><span class=\"toc-item-num\">3.4&nbsp;&nbsp;</span>Motorcyle input data.</a></div><div class=\"lev1 toc-item\"><a href=\"#The-Challenge\" data-toc-modified-id=\"The-Challenge-4\"><span class=\"toc-item-num\">4&nbsp;&nbsp;</span>The Challenge</a></div>"
   ]
  },
  {
   "cell_type": "markdown",
   "metadata": {},
   "source": [
    "# Objective\n",
    "\n",
    "Implement an image processing pipeline to identify and draw lane lines.\n"
   ]
  },
  {
   "cell_type": "markdown",
   "metadata": {},
   "source": [
    "# Pipeline"
   ]
  },
  {
   "cell_type": "markdown",
   "metadata": {},
   "source": [
    "## Breakdown and visualization \n",
    "\n",
    "A cumulitively graphed imaged for each step was added to give a more intuitive vizualization of the pipeline, as well as tuning individual functional parameters.\n",
    "\n",
    "\n",
    "### Preprocess data\n",
    "\n",
    "The objective of this step was to optimize the data for processing. \n",
    "\n",
    "- Dimensionality reduction was used to remove redundant processing. \n",
    "\n",
    "- Gradient smoothing was applied to reduce noise. \n",
    "\n",
    "These where achieved by applying cv2.cvtColor() and cv2.GaussianBlur(), respectively. \n",
    "\n",
    "![alt text](report_images/1_preprocess.png \"Preprocess\")\n",
    "\n",
    "\n",
    "\n",
    "### Edge detection\n",
    "\n",
    "The purpose of this step was to perform feature extraction.  \n",
    "\n",
    "Clearly, lane lines are lines, and have linear edges. Thus, canny edge detection was applied per suggestion, and by method of cv2.Canny(). \n",
    "\n",
    "\n",
    "![alt text](report_images/2_edge.png \"Edge-Detection\")\n",
    "\n",
    "\n",
    "### Mask\n",
    "\n",
    "A mask is necessary for utilitizing hough transform in this case. This is explored in the following section: 2.2 Hough transform without mask. \n",
    "\n",
    "Using an edge detected image as input, the mask was hardcoded to a region of interest.    \n",
    "\n",
    "![alt text](report_images/3_mask.png \"Mask\")\n",
    "\n",
    "\n",
    "### Hough transform with mask \n",
    "\n",
    "Applying the hough transform to our region of interest returns a pretty good representation. \n",
    "\n",
    "![alt text](report_images/hough_without_draw.png \"Masked Raw Hough\")\n",
    "\n",
    "\n",
    "### Draw lines \n",
    "\n",
    "The last step applies a draw lines function, which will be explored further in 2.3 Modifying draw_lines().   \n",
    "\n",
    "\n",
    "![alt text](report_images/4_hough_and_drawlines.png \"Hough and Drawlines\")\n"
   ]
  },
  {
   "cell_type": "markdown",
   "metadata": {},
   "source": [
    "\n",
    "## Non-Pipeline Supplement \n",
    "### Hough transform without mask \n",
    "\n",
    "Hough transform is applied accross all points. Therefore, without a region of interest, it's difficult to utilize efficiently in this instance. \n",
    "\n",
    "Below is a visualization of a hough transform applied across the entire image space.\n",
    "\n",
    "![alt text](report_images/hough_without_mask.png \"Raw Hough\")"
   ]
  },
  {
   "cell_type": "markdown",
   "metadata": {},
   "source": [
    "## Modifying draw_lines()"
   ]
  },
  {
   "cell_type": "markdown",
   "metadata": {},
   "source": [
    "A good draw lines function was defined by: \n",
    "\n",
    "1. Relatively smooth.\n",
    "2. Continuous\n",
    "2. Marginalized with the lower border.\n",
    "\n",
    "An average line was satisfactory in achieving smoothness and continuity. However, in order to marginalize with the lower border, more work was required. \n",
    "\n",
    "It was determined that the necessary x and y values required to simply draw a line to the border could be solved for given the following:\n",
    "\n",
    "- For each lane, the slope and y-intercept can determined by using an average line calculated from output of the hough transform. \n",
    "\n",
    "- The y value of the lower margin is equivilant to the height of the image. \n",
    "\n",
    "\n",
    "\n",
    "\n",
    "**The x value of the line at the lower margin can be found by:**\n",
    "\n",
    "Starting the two average points, the slope can be determined by: $ m = \\frac{y_1 - y_2}{x_1 - x_2} $\n",
    "\n",
    "With m and our two points,  the y-intercept can be determined by: $ b = y - mx$\n",
    "\n",
    "With m, b, and any given y value, a corresponding x can be determined by: $x = \\frac{y - b}{m} $ \n",
    "\n",
    "\n",
    "\n"
   ]
  },
  {
   "cell_type": "markdown",
   "metadata": {},
   "source": [
    "# Shortcomings and improvements\n"
   ]
  },
  {
   "cell_type": "markdown",
   "metadata": {},
   "source": [
    "## Consistant line height.\n",
    "\n",
    "A shortcoming was applying a consistant upper threshold.\n",
    "\n",
    "I wanted to try something like:\n",
    "\n",
    "y_upper_threshold = img.shape[0] * 0.55 \n",
    "\n",
    "Then replace or average it with the y-values of the center points, however it wasn't plug and play. I decided I had enough fun on this project already. \n",
    "\n",
    "\n",
    "## Curved lines\n",
    "\n",
    "An improvement would be to actually curve the draw lines to curved lines. \n",
    "\n",
    "## Determine line type (double yellow, broken white, etc). Color code draw_lines()\n",
    "\n",
    "An improvement would be to draw a different line color for each type of line, though this is more computer vision. \n",
    "\n",
    "## Motorcyle input data. \n",
    "\n",
    "With a consistant camera position, this works fine. However, a variation on the roll axis would break the mask functionality. "
   ]
  }
 ],
 "metadata": {
  "kernelspec": {
   "display_name": "Python [default]",
   "language": "python",
   "name": "python3"
  },
  "language_info": {
   "codemirror_mode": {
    "name": "ipython",
    "version": 3
   },
   "file_extension": ".py",
   "mimetype": "text/x-python",
   "name": "python",
   "nbconvert_exporter": "python",
   "pygments_lexer": "ipython3",
   "version": "3.5.2"
  },
  "toc": {
   "colors": {
    "hover_highlight": "#DAA520",
    "running_highlight": "#FF0000",
    "selected_highlight": "#FFD700"
   },
   "moveMenuLeft": true,
   "nav_menu": {
    "height": "225px",
    "width": "252px"
   },
   "navigate_menu": true,
   "number_sections": true,
   "sideBar": true,
   "threshold": "2",
   "toc_cell": true,
   "toc_section_display": "block",
   "toc_window_display": false
  }
 },
 "nbformat": 4,
 "nbformat_minor": 2
}
